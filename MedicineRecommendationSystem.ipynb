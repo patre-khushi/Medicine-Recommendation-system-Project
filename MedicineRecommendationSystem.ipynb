{
  "cells": [
    {
      "cell_type": "code",
      "execution_count": null,
      "id": "d939f002",
      "metadata": {
        "id": "d939f002"
      },
      "outputs": [],
      "source": [
        "import pandas as pd\n",
        "import numpy as np"
      ]
    },
    {
      "cell_type": "code",
      "execution_count": null,
      "id": "8ca10d5c",
      "metadata": {
        "id": "8ca10d5c"
      },
      "outputs": [],
      "source": [
        "df=pd.read_csv(r'C:\\Users\\khang\\Downloads\\Medicine_dataset.csv')"
      ]
    },
    {
      "cell_type": "code",
      "execution_count": null,
      "id": "12d843da",
      "metadata": {
        "id": "12d843da",
        "outputId": "7f8bdb24-6ab0-4635-c7b8-1bec765af505"
      },
      "outputs": [
        {
          "data": {
            "text/html": [
              "<div>\n",
              "<style scoped>\n",
              "    .dataframe tbody tr th:only-of-type {\n",
              "        vertical-align: middle;\n",
              "    }\n",
              "\n",
              "    .dataframe tbody tr th {\n",
              "        vertical-align: top;\n",
              "    }\n",
              "\n",
              "    .dataframe thead th {\n",
              "        text-align: right;\n",
              "    }\n",
              "</style>\n",
              "<table border=\"1\" class=\"dataframe\">\n",
              "  <thead>\n",
              "    <tr style=\"text-align: right;\">\n",
              "      <th></th>\n",
              "      <th>DRUG NAME</th>\n",
              "      <th>RATING</th>\n",
              "      <th>REVIEWS</th>\n",
              "    </tr>\n",
              "  </thead>\n",
              "  <tbody>\n",
              "    <tr>\n",
              "      <th>0</th>\n",
              "      <td>Metformin</td>\n",
              "      <td>5.9</td>\n",
              "      <td>253</td>\n",
              "    </tr>\n",
              "    <tr>\n",
              "      <th>1</th>\n",
              "      <td>Januvia</td>\n",
              "      <td>4.6</td>\n",
              "      <td>126</td>\n",
              "    </tr>\n",
              "    <tr>\n",
              "      <th>2</th>\n",
              "      <td>Tradjenta</td>\n",
              "      <td>3.1</td>\n",
              "      <td>60</td>\n",
              "    </tr>\n",
              "    <tr>\n",
              "      <th>3</th>\n",
              "      <td>Sitagliptin</td>\n",
              "      <td>4.7</td>\n",
              "      <td>135</td>\n",
              "    </tr>\n",
              "    <tr>\n",
              "      <th>4</th>\n",
              "      <td>Onglyza</td>\n",
              "      <td>5.9</td>\n",
              "      <td>15</td>\n",
              "    </tr>\n",
              "    <tr>\n",
              "      <th>5</th>\n",
              "      <td>Mounjaro</td>\n",
              "      <td>6.1</td>\n",
              "      <td>94</td>\n",
              "    </tr>\n",
              "  </tbody>\n",
              "</table>\n",
              "</div>"
            ],
            "text/plain": [
              "     DRUG NAME  RATING  REVIEWS\n",
              "0    Metformin     5.9      253\n",
              "1      Januvia     4.6      126\n",
              "2    Tradjenta     3.1       60\n",
              "3  Sitagliptin     4.7      135\n",
              "4      Onglyza     5.9       15\n",
              "5     Mounjaro     6.1       94"
            ]
          },
          "execution_count": 3,
          "metadata": {},
          "output_type": "execute_result"
        }
      ],
      "source": [
        "df.head(6)"
      ]
    },
    {
      "cell_type": "code",
      "execution_count": null,
      "id": "7722a1a8",
      "metadata": {
        "id": "7722a1a8",
        "outputId": "a9504e57-b736-4fc4-f194-5fd1d4c3247c"
      },
      "outputs": [
        {
          "data": {
            "text/plain": [
              "(160, 3)"
            ]
          },
          "execution_count": 4,
          "metadata": {},
          "output_type": "execute_result"
        }
      ],
      "source": [
        "df.shape"
      ]
    },
    {
      "cell_type": "code",
      "execution_count": null,
      "id": "27bb3e65",
      "metadata": {
        "id": "27bb3e65",
        "outputId": "23f9ea22-45f5-47f4-d2e6-a8e03dc24b10"
      },
      "outputs": [
        {
          "data": {
            "text/html": [
              "<div>\n",
              "<style scoped>\n",
              "    .dataframe tbody tr th:only-of-type {\n",
              "        vertical-align: middle;\n",
              "    }\n",
              "\n",
              "    .dataframe tbody tr th {\n",
              "        vertical-align: top;\n",
              "    }\n",
              "\n",
              "    .dataframe thead th {\n",
              "        text-align: right;\n",
              "    }\n",
              "</style>\n",
              "<table border=\"1\" class=\"dataframe\">\n",
              "  <thead>\n",
              "    <tr style=\"text-align: right;\">\n",
              "      <th></th>\n",
              "      <th>RATING</th>\n",
              "      <th>REVIEWS</th>\n",
              "    </tr>\n",
              "  </thead>\n",
              "  <tbody>\n",
              "    <tr>\n",
              "      <th>count</th>\n",
              "      <td>160.000000</td>\n",
              "      <td>160.00000</td>\n",
              "    </tr>\n",
              "    <tr>\n",
              "      <th>mean</th>\n",
              "      <td>4.649375</td>\n",
              "      <td>55.36250</td>\n",
              "    </tr>\n",
              "    <tr>\n",
              "      <th>std</th>\n",
              "      <td>3.105564</td>\n",
              "      <td>145.96702</td>\n",
              "    </tr>\n",
              "    <tr>\n",
              "      <th>min</th>\n",
              "      <td>0.000000</td>\n",
              "      <td>0.00000</td>\n",
              "    </tr>\n",
              "    <tr>\n",
              "      <th>25%</th>\n",
              "      <td>2.125000</td>\n",
              "      <td>1.00000</td>\n",
              "    </tr>\n",
              "    <tr>\n",
              "      <th>50%</th>\n",
              "      <td>5.050000</td>\n",
              "      <td>5.00000</td>\n",
              "    </tr>\n",
              "    <tr>\n",
              "      <th>75%</th>\n",
              "      <td>6.850000</td>\n",
              "      <td>24.25000</td>\n",
              "    </tr>\n",
              "    <tr>\n",
              "      <th>max</th>\n",
              "      <td>10.000000</td>\n",
              "      <td>923.00000</td>\n",
              "    </tr>\n",
              "  </tbody>\n",
              "</table>\n",
              "</div>"
            ],
            "text/plain": [
              "           RATING    REVIEWS\n",
              "count  160.000000  160.00000\n",
              "mean     4.649375   55.36250\n",
              "std      3.105564  145.96702\n",
              "min      0.000000    0.00000\n",
              "25%      2.125000    1.00000\n",
              "50%      5.050000    5.00000\n",
              "75%      6.850000   24.25000\n",
              "max     10.000000  923.00000"
            ]
          },
          "execution_count": 5,
          "metadata": {},
          "output_type": "execute_result"
        }
      ],
      "source": [
        "df.describe()"
      ]
    },
    {
      "cell_type": "code",
      "execution_count": null,
      "id": "4fe43ba6",
      "metadata": {
        "id": "4fe43ba6",
        "outputId": "03241335-f17b-4826-c962-a0d8711f5638"
      },
      "outputs": [
        {
          "data": {
            "text/plain": [
              "0      False\n",
              "1      False\n",
              "2      False\n",
              "3      False\n",
              "4      False\n",
              "       ...  \n",
              "155    False\n",
              "156    False\n",
              "157    False\n",
              "158    False\n",
              "159    False\n",
              "Length: 160, dtype: bool"
            ]
          },
          "execution_count": 6,
          "metadata": {},
          "output_type": "execute_result"
        }
      ],
      "source": [
        "#find duplicate values\n",
        "df.duplicated()"
      ]
    },
    {
      "cell_type": "code",
      "execution_count": null,
      "id": "becf7cea",
      "metadata": {
        "id": "becf7cea",
        "outputId": "dd1c7353-5c6e-48c7-e5f4-f5490b0d9608"
      },
      "outputs": [
        {
          "name": "stdout",
          "output_type": "stream",
          "text": [
            "<class 'pandas.core.frame.DataFrame'>\n",
            "RangeIndex: 160 entries, 0 to 159\n",
            "Data columns (total 3 columns):\n",
            " #   Column     Non-Null Count  Dtype  \n",
            "---  ------     --------------  -----  \n",
            " 0   DRUG NAME  160 non-null    object \n",
            " 1   RATING     160 non-null    float64\n",
            " 2   REVIEWS    160 non-null    int64  \n",
            "dtypes: float64(1), int64(1), object(1)\n",
            "memory usage: 3.9+ KB\n"
          ]
        }
      ],
      "source": [
        "df.info()"
      ]
    },
    {
      "cell_type": "code",
      "execution_count": null,
      "id": "c8dfc94c",
      "metadata": {
        "id": "c8dfc94c",
        "outputId": "460a63a6-5e31-47b9-f2b8-dc264533f908"
      },
      "outputs": [
        {
          "data": {
            "text/plain": [
              "DRUG NAME    0\n",
              "RATING       0\n",
              "REVIEWS      0\n",
              "dtype: int64"
            ]
          },
          "execution_count": 8,
          "metadata": {},
          "output_type": "execute_result"
        }
      ],
      "source": [
        "df.isnull().sum()\n"
      ]
    },
    {
      "cell_type": "code",
      "execution_count": null,
      "id": "7f3d67d0",
      "metadata": {
        "id": "7f3d67d0"
      },
      "outputs": [],
      "source": [
        "#Data Visualization"
      ]
    },
    {
      "cell_type": "code",
      "execution_count": null,
      "id": "ffd16709",
      "metadata": {
        "id": "ffd16709"
      },
      "outputs": [],
      "source": [
        "#importing dependencies"
      ]
    },
    {
      "cell_type": "code",
      "execution_count": null,
      "id": "01b1eb43",
      "metadata": {
        "id": "01b1eb43"
      },
      "outputs": [],
      "source": [
        "import seaborn as sns\n",
        "import matplotlib.pyplot as plt"
      ]
    },
    {
      "cell_type": "code",
      "execution_count": null,
      "id": "eca835e2",
      "metadata": {
        "id": "eca835e2",
        "outputId": "8232f9bd-5326-4370-e1f9-ce23ed47df0b"
      },
      "outputs": [
        {
          "data": {
            "image/png": "[encoded data removed]",
            "text/plain": [
              "<Figure size 640x480 with 1 Axes>"
            ]
          },
          "metadata": {},
          "output_type": "display_data"
        }
      ],
      "source": [
        "sns.histplot(x='RATING',data=df)\n",
        "plt.show()"
      ]
    },
    {
      "cell_type": "code",
      "execution_count": null,
      "id": "d8027511",
      "metadata": {
        "id": "d8027511",
        "outputId": "0883c9aa-28a4-424b-d7f1-07b2306ae6a0"
      },
      "outputs": [
        {
          "data": {
            "image/png": "[encoded data removed]",
            "text/plain": [
              "<Figure size 640x480 with 1 Axes>"
            ]
          },
          "metadata": {},
          "output_type": "display_data"
        }
      ],
      "source": [
        "sns.histplot(y='DRUG NAME',data=df)\n",
        "plt.show()"
      ]
    },
    {
      "cell_type": "code",
      "execution_count": null,
      "id": "1e8f43f2",
      "metadata": {
        "id": "1e8f43f2",
        "outputId": "72a2ba09-ced3-490c-b5e7-96106858d10f"
      },
      "outputs": [
        {
          "data": {
            "image/png": "[encoded data removed]",
            "text/plain": [
              "<Figure size 640x480 with 1 Axes>"
            ]
          },
          "metadata": {},
          "output_type": "display_data"
        }
      ],
      "source": [
        "sns.histplot(y='REVIEWS',data=df)\n",
        "plt.show()"
      ]
    },
    {
      "cell_type": "code",
      "execution_count": null,
      "id": "de5f1899",
      "metadata": {
        "id": "de5f1899",
        "outputId": "8cd98c92-2349-4a10-ded0-e753f6a93ee0"
      },
      "outputs": [
        {
          "data": {
            "image/png": "[encoded data removed]",
            "text/plain": [
              "<Figure size 640x480 with 1 Axes>"
            ]
          },
          "metadata": {},
          "output_type": "display_data"
        }
      ],
      "source": [
        "sns.boxplot(x='RATING',y='REVIEWS',data=df,)\n",
        "plt.show()"
      ]
    },
    {
      "cell_type": "code",
      "execution_count": null,
      "id": "011e749d",
      "metadata": {
        "id": "011e749d"
      },
      "outputs": [],
      "source": [
        "#calculate the mean rating for each medicine\n",
        "medicine_means=df.groupby('DRUG NAME')['RATING'].mean()"
      ]
    },
    {
      "cell_type": "code",
      "execution_count": null,
      "id": "5bdfa5a7",
      "metadata": {
        "id": "5bdfa5a7",
        "outputId": "bef06395-a82c-451f-812b-ed24b1253d05"
      },
      "outputs": [
        {
          "name": "stdout",
          "output_type": "stream",
          "text": [
            "DRUG NAME\n",
            "Acarbose        4.5\n",
            "ActoPlus Met    7.2\n",
            "Actos           4.9\n",
            "Adlyxin         0.0\n",
            "Admelog         3.0\n",
            "               ... \n",
            "Trulicity       5.1\n",
            "Victoza         7.6\n",
            "Welchol         4.0\n",
            "Xigduo XR       7.3\n",
            "Xultophy        9.3\n",
            "Name: RATING, Length: 146, dtype: float64\n"
          ]
        }
      ],
      "source": [
        "print(medicine_means)"
      ]
    },
    {
      "cell_type": "code",
      "execution_count": null,
      "id": "50abb3c2",
      "metadata": {
        "id": "50abb3c2"
      },
      "outputs": [],
      "source": [
        "#Merge the medicine means with the original dataframe\n",
        "df=pd.merge(df,medicine_means,on='DRUG NAME',suffixes=('','_MEAN'))"
      ]
    },
    {
      "cell_type": "code",
      "execution_count": null,
      "id": "0d0a2e0b",
      "metadata": {
        "id": "0d0a2e0b",
        "outputId": "700681a0-8de0-4ac1-a388-5446c79d5f19"
      },
      "outputs": [
        {
          "data": {
            "text/html": [
              "<div>\n",
              "<style scoped>\n",
              "    .dataframe tbody tr th:only-of-type {\n",
              "        vertical-align: middle;\n",
              "    }\n",
              "\n",
              "    .dataframe tbody tr th {\n",
              "        vertical-align: top;\n",
              "    }\n",
              "\n",
              "    .dataframe thead th {\n",
              "        text-align: right;\n",
              "    }\n",
              "</style>\n",
              "<table border=\"1\" class=\"dataframe\">\n",
              "  <thead>\n",
              "    <tr style=\"text-align: right;\">\n",
              "      <th></th>\n",
              "      <th>DRUG NAME</th>\n",
              "      <th>RATING</th>\n",
              "      <th>REVIEWS</th>\n",
              "      <th>RATING_MEAN</th>\n",
              "    </tr>\n",
              "  </thead>\n",
              "  <tbody>\n",
              "    <tr>\n",
              "      <th>0</th>\n",
              "      <td>Metformin</td>\n",
              "      <td>5.9</td>\n",
              "      <td>253</td>\n",
              "      <td>5.900000</td>\n",
              "    </tr>\n",
              "    <tr>\n",
              "      <th>1</th>\n",
              "      <td>Januvia</td>\n",
              "      <td>4.6</td>\n",
              "      <td>126</td>\n",
              "      <td>4.600000</td>\n",
              "    </tr>\n",
              "    <tr>\n",
              "      <th>2</th>\n",
              "      <td>Tradjenta</td>\n",
              "      <td>3.1</td>\n",
              "      <td>60</td>\n",
              "      <td>3.100000</td>\n",
              "    </tr>\n",
              "    <tr>\n",
              "      <th>3</th>\n",
              "      <td>Sitagliptin</td>\n",
              "      <td>4.7</td>\n",
              "      <td>135</td>\n",
              "      <td>4.700000</td>\n",
              "    </tr>\n",
              "    <tr>\n",
              "      <th>4</th>\n",
              "      <td>Onglyza</td>\n",
              "      <td>5.9</td>\n",
              "      <td>15</td>\n",
              "      <td>5.900000</td>\n",
              "    </tr>\n",
              "    <tr>\n",
              "      <th>5</th>\n",
              "      <td>Mounjaro</td>\n",
              "      <td>6.1</td>\n",
              "      <td>94</td>\n",
              "      <td>6.100000</td>\n",
              "    </tr>\n",
              "    <tr>\n",
              "      <th>6</th>\n",
              "      <td>Tizepatide</td>\n",
              "      <td>6.1</td>\n",
              "      <td>95</td>\n",
              "      <td>6.100000</td>\n",
              "    </tr>\n",
              "    <tr>\n",
              "      <th>7</th>\n",
              "      <td>Victoza</td>\n",
              "      <td>7.6</td>\n",
              "      <td>510</td>\n",
              "      <td>7.600000</td>\n",
              "    </tr>\n",
              "    <tr>\n",
              "      <th>8</th>\n",
              "      <td>Glipizide</td>\n",
              "      <td>6.1</td>\n",
              "      <td>67</td>\n",
              "      <td>4.800000</td>\n",
              "    </tr>\n",
              "    <tr>\n",
              "      <th>9</th>\n",
              "      <td>Glipizide</td>\n",
              "      <td>3.5</td>\n",
              "      <td>2</td>\n",
              "      <td>4.800000</td>\n",
              "    </tr>\n",
              "    <tr>\n",
              "      <th>10</th>\n",
              "      <td>Glimepiride</td>\n",
              "      <td>6.6</td>\n",
              "      <td>71</td>\n",
              "      <td>6.050000</td>\n",
              "    </tr>\n",
              "    <tr>\n",
              "      <th>11</th>\n",
              "      <td>Glimepiride</td>\n",
              "      <td>5.5</td>\n",
              "      <td>2</td>\n",
              "      <td>6.050000</td>\n",
              "    </tr>\n",
              "    <tr>\n",
              "      <th>12</th>\n",
              "      <td>Amaryl</td>\n",
              "      <td>7.2</td>\n",
              "      <td>20</td>\n",
              "      <td>7.200000</td>\n",
              "    </tr>\n",
              "    <tr>\n",
              "      <th>13</th>\n",
              "      <td>Invokana</td>\n",
              "      <td>5.8</td>\n",
              "      <td>257</td>\n",
              "      <td>5.800000</td>\n",
              "    </tr>\n",
              "    <tr>\n",
              "      <th>14</th>\n",
              "      <td>Lantus</td>\n",
              "      <td>6.2</td>\n",
              "      <td>28</td>\n",
              "      <td>6.200000</td>\n",
              "    </tr>\n",
              "    <tr>\n",
              "      <th>15</th>\n",
              "      <td>Actos</td>\n",
              "      <td>4.9</td>\n",
              "      <td>40</td>\n",
              "      <td>4.900000</td>\n",
              "    </tr>\n",
              "    <tr>\n",
              "      <th>16</th>\n",
              "      <td>Farxiga</td>\n",
              "      <td>4.4</td>\n",
              "      <td>126</td>\n",
              "      <td>4.400000</td>\n",
              "    </tr>\n",
              "    <tr>\n",
              "      <th>17</th>\n",
              "      <td>Jardiance</td>\n",
              "      <td>5.3</td>\n",
              "      <td>279</td>\n",
              "      <td>5.300000</td>\n",
              "    </tr>\n",
              "    <tr>\n",
              "      <th>18</th>\n",
              "      <td>Levemir</td>\n",
              "      <td>5.5</td>\n",
              "      <td>35</td>\n",
              "      <td>5.500000</td>\n",
              "    </tr>\n",
              "    <tr>\n",
              "      <th>19</th>\n",
              "      <td>Janumet</td>\n",
              "      <td>6.0</td>\n",
              "      <td>64</td>\n",
              "      <td>6.000000</td>\n",
              "    </tr>\n",
              "    <tr>\n",
              "      <th>20</th>\n",
              "      <td>Glucotrol</td>\n",
              "      <td>7.4</td>\n",
              "      <td>9</td>\n",
              "      <td>7.400000</td>\n",
              "    </tr>\n",
              "    <tr>\n",
              "      <th>21</th>\n",
              "      <td>Ozempic</td>\n",
              "      <td>5.6</td>\n",
              "      <td>565</td>\n",
              "      <td>5.600000</td>\n",
              "    </tr>\n",
              "    <tr>\n",
              "      <th>22</th>\n",
              "      <td>Trulicity</td>\n",
              "      <td>5.1</td>\n",
              "      <td>900</td>\n",
              "      <td>5.100000</td>\n",
              "    </tr>\n",
              "    <tr>\n",
              "      <th>23</th>\n",
              "      <td>Byetta</td>\n",
              "      <td>7.9</td>\n",
              "      <td>81</td>\n",
              "      <td>7.900000</td>\n",
              "    </tr>\n",
              "    <tr>\n",
              "      <th>24</th>\n",
              "      <td>Glumetza</td>\n",
              "      <td>9.5</td>\n",
              "      <td>4</td>\n",
              "      <td>9.500000</td>\n",
              "    </tr>\n",
              "    <tr>\n",
              "      <th>25</th>\n",
              "      <td>Liraglutide</td>\n",
              "      <td>7.6</td>\n",
              "      <td>519</td>\n",
              "      <td>7.600000</td>\n",
              "    </tr>\n",
              "    <tr>\n",
              "      <th>26</th>\n",
              "      <td>Pioglitazone</td>\n",
              "      <td>4.6</td>\n",
              "      <td>50</td>\n",
              "      <td>4.266667</td>\n",
              "    </tr>\n",
              "    <tr>\n",
              "      <th>27</th>\n",
              "      <td>Pioglitazone</td>\n",
              "      <td>7.2</td>\n",
              "      <td>6</td>\n",
              "      <td>4.266667</td>\n",
              "    </tr>\n",
              "    <tr>\n",
              "      <th>28</th>\n",
              "      <td>Pioglitazone</td>\n",
              "      <td>1.0</td>\n",
              "      <td>2</td>\n",
              "      <td>4.266667</td>\n",
              "    </tr>\n",
              "    <tr>\n",
              "      <th>29</th>\n",
              "      <td>Bydureon</td>\n",
              "      <td>6.4</td>\n",
              "      <td>265</td>\n",
              "      <td>6.400000</td>\n",
              "    </tr>\n",
              "    <tr>\n",
              "      <th>30</th>\n",
              "      <td>Humalog</td>\n",
              "      <td>6.8</td>\n",
              "      <td>11</td>\n",
              "      <td>6.800000</td>\n",
              "    </tr>\n",
              "    <tr>\n",
              "      <th>31</th>\n",
              "      <td>Lantus solostar</td>\n",
              "      <td>7.6</td>\n",
              "      <td>29</td>\n",
              "      <td>7.600000</td>\n",
              "    </tr>\n",
              "    <tr>\n",
              "      <th>32</th>\n",
              "      <td>Rybelsus</td>\n",
              "      <td>5.7</td>\n",
              "      <td>157</td>\n",
              "      <td>5.700000</td>\n",
              "    </tr>\n",
              "    <tr>\n",
              "      <th>33</th>\n",
              "      <td>Novolog</td>\n",
              "      <td>4.9</td>\n",
              "      <td>16</td>\n",
              "      <td>4.900000</td>\n",
              "    </tr>\n",
              "    <tr>\n",
              "      <th>34</th>\n",
              "      <td>Glyburide</td>\n",
              "      <td>7.2</td>\n",
              "      <td>9</td>\n",
              "      <td>7.200000</td>\n",
              "    </tr>\n",
              "    <tr>\n",
              "      <th>35</th>\n",
              "      <td>Riomet</td>\n",
              "      <td>4.5</td>\n",
              "      <td>2</td>\n",
              "      <td>4.500000</td>\n",
              "    </tr>\n",
              "    <tr>\n",
              "      <th>36</th>\n",
              "      <td>GlipiZIDE XL</td>\n",
              "      <td>5.3</td>\n",
              "      <td>10</td>\n",
              "      <td>5.300000</td>\n",
              "    </tr>\n",
              "    <tr>\n",
              "      <th>37</th>\n",
              "      <td>Glargine</td>\n",
              "      <td>4.6</td>\n",
              "      <td>182</td>\n",
              "      <td>4.600000</td>\n",
              "    </tr>\n",
              "    <tr>\n",
              "      <th>38</th>\n",
              "      <td>NovoLogflexpen</td>\n",
              "      <td>9.7</td>\n",
              "      <td>3</td>\n",
              "      <td>9.700000</td>\n",
              "    </tr>\n",
              "    <tr>\n",
              "      <th>39</th>\n",
              "      <td>Prandin</td>\n",
              "      <td>8.0</td>\n",
              "      <td>7</td>\n",
              "      <td>8.000000</td>\n",
              "    </tr>\n",
              "  </tbody>\n",
              "</table>\n",
              "</div>"
            ],
            "text/plain": [
              "          DRUG NAME  RATING  REVIEWS  RATING_MEAN\n",
              "0         Metformin     5.9      253     5.900000\n",
              "1           Januvia     4.6      126     4.600000\n",
              "2         Tradjenta     3.1       60     3.100000\n",
              "3       Sitagliptin     4.7      135     4.700000\n",
              "4           Onglyza     5.9       15     5.900000\n",
              "5          Mounjaro     6.1       94     6.100000\n",
              "6        Tizepatide     6.1       95     6.100000\n",
              "7           Victoza     7.6      510     7.600000\n",
              "8         Glipizide     6.1       67     4.800000\n",
              "9         Glipizide     3.5        2     4.800000\n",
              "10      Glimepiride     6.6       71     6.050000\n",
              "11      Glimepiride     5.5        2     6.050000\n",
              "12           Amaryl     7.2       20     7.200000\n",
              "13         Invokana     5.8      257     5.800000\n",
              "14           Lantus     6.2       28     6.200000\n",
              "15            Actos     4.9       40     4.900000\n",
              "16          Farxiga     4.4      126     4.400000\n",
              "17        Jardiance     5.3      279     5.300000\n",
              "18          Levemir     5.5       35     5.500000\n",
              "19          Janumet     6.0       64     6.000000\n",
              "20        Glucotrol     7.4        9     7.400000\n",
              "21          Ozempic     5.6      565     5.600000\n",
              "22        Trulicity     5.1      900     5.100000\n",
              "23           Byetta     7.9       81     7.900000\n",
              "24         Glumetza     9.5        4     9.500000\n",
              "25      Liraglutide     7.6      519     7.600000\n",
              "26     Pioglitazone     4.6       50     4.266667\n",
              "27     Pioglitazone     7.2        6     4.266667\n",
              "28     Pioglitazone     1.0        2     4.266667\n",
              "29         Bydureon     6.4      265     6.400000\n",
              "30          Humalog     6.8       11     6.800000\n",
              "31  Lantus solostar     7.6       29     7.600000\n",
              "32         Rybelsus     5.7      157     5.700000\n",
              "33          Novolog     4.9       16     4.900000\n",
              "34        Glyburide     7.2        9     7.200000\n",
              "35           Riomet     4.5        2     4.500000\n",
              "36     GlipiZIDE XL     5.3       10     5.300000\n",
              "37         Glargine     4.6      182     4.600000\n",
              "38   NovoLogflexpen     9.7        3     9.700000\n",
              "39          Prandin     8.0        7     8.000000"
            ]
          },
          "execution_count": 20,
          "metadata": {},
          "output_type": "execute_result"
        }
      ],
      "source": [
        "df.head(40)"
      ]
    },
    {
      "cell_type": "code",
      "execution_count": null,
      "id": "8354185d",
      "metadata": {
        "id": "8354185d"
      },
      "outputs": [],
      "source": [
        "#calculate the deviation of each rating from the medicine mean\n",
        "df['deviation']=df['RATING']-df['RATING_MEAN']"
      ]
    },
    {
      "cell_type": "code",
      "execution_count": null,
      "id": "effbb7f1",
      "metadata": {
        "id": "effbb7f1",
        "outputId": "72bc349c-d580-46b9-af17-0c0af1cef85e"
      },
      "outputs": [
        {
          "data": {
            "text/plain": [
              "0    0.0\n",
              "1    0.0\n",
              "2    0.0\n",
              "3    0.0\n",
              "4    0.0\n",
              "Name: deviation, dtype: float64"
            ]
          },
          "execution_count": 22,
          "metadata": {},
          "output_type": "execute_result"
        }
      ],
      "source": [
        "df['deviation'].head()"
      ]
    },
    {
      "cell_type": "code",
      "execution_count": null,
      "id": "4bfd4e51",
      "metadata": {
        "id": "4bfd4e51",
        "outputId": "75afb159-7912-4843-e8d8-306a18a476cf"
      },
      "outputs": [
        {
          "name": "stderr",
          "output_type": "stream",
          "text": [
            "C:\\Users\\khang\\AppData\\Local\\Temp\\ipykernel_10116\\209153295.py:3: RuntimeWarning: invalid value encountered in scalar divide\n",
            "  .apply(lambda x:(x['deviation'] * x['REVIEWS']).sum() / x['REVIEWS'].abs().sum())\n"
          ]
        }
      ],
      "source": [
        "#calculate the weighted average deviation for each medicine based on the reviews\n",
        "weighted_deviations=df.groupby(['DRUG NAME'])\\\n",
        ".apply(lambda x:(x['deviation'] * x['REVIEWS']).sum() / x['REVIEWS'].abs().sum())"
      ]
    },
    {
      "cell_type": "code",
      "execution_count": null,
      "id": "c64dcffc",
      "metadata": {
        "id": "c64dcffc"
      },
      "outputs": [],
      "source": [
        "#convert the result to a pandas dataframe\n",
        "recommendations=weighted_deviations.reset_index()"
      ]
    },
    {
      "cell_type": "code",
      "execution_count": null,
      "id": "663aa466",
      "metadata": {
        "id": "663aa466"
      },
      "outputs": [],
      "source": [
        "recommendations.columns=['DRUG NAME','score']"
      ]
    },
    {
      "cell_type": "code",
      "execution_count": null,
      "id": "ae4abaee",
      "metadata": {
        "id": "ae4abaee",
        "outputId": "baca18d5-8e36-492a-c51c-fe24b8114b25"
      },
      "outputs": [
        {
          "data": {
            "text/html": [
              "<div>\n",
              "<style scoped>\n",
              "    .dataframe tbody tr th:only-of-type {\n",
              "        vertical-align: middle;\n",
              "    }\n",
              "\n",
              "    .dataframe tbody tr th {\n",
              "        vertical-align: top;\n",
              "    }\n",
              "\n",
              "    .dataframe thead th {\n",
              "        text-align: right;\n",
              "    }\n",
              "</style>\n",
              "<table border=\"1\" class=\"dataframe\">\n",
              "  <thead>\n",
              "    <tr style=\"text-align: right;\">\n",
              "      <th></th>\n",
              "      <th>DRUG NAME</th>\n",
              "      <th>score</th>\n",
              "    </tr>\n",
              "  </thead>\n",
              "  <tbody>\n",
              "    <tr>\n",
              "      <th>0</th>\n",
              "      <td>Acarbose</td>\n",
              "      <td>0.0</td>\n",
              "    </tr>\n",
              "    <tr>\n",
              "      <th>1</th>\n",
              "      <td>ActoPlus Met</td>\n",
              "      <td>0.0</td>\n",
              "    </tr>\n",
              "    <tr>\n",
              "      <th>2</th>\n",
              "      <td>Actos</td>\n",
              "      <td>0.0</td>\n",
              "    </tr>\n",
              "    <tr>\n",
              "      <th>3</th>\n",
              "      <td>Adlyxin</td>\n",
              "      <td>NaN</td>\n",
              "    </tr>\n",
              "    <tr>\n",
              "      <th>4</th>\n",
              "      <td>Admelog</td>\n",
              "      <td>0.0</td>\n",
              "    </tr>\n",
              "    <tr>\n",
              "      <th>...</th>\n",
              "      <td>...</td>\n",
              "      <td>...</td>\n",
              "    </tr>\n",
              "    <tr>\n",
              "      <th>136</th>\n",
              "      <td>Toujeo Solostar</td>\n",
              "      <td>0.0</td>\n",
              "    </tr>\n",
              "    <tr>\n",
              "      <th>137</th>\n",
              "      <td>Toujeo max solostar</td>\n",
              "      <td>NaN</td>\n",
              "    </tr>\n",
              "    <tr>\n",
              "      <th>138</th>\n",
              "      <td>Tradjenta</td>\n",
              "      <td>0.0</td>\n",
              "    </tr>\n",
              "    <tr>\n",
              "      <th>139</th>\n",
              "      <td>Tresiba</td>\n",
              "      <td>0.0</td>\n",
              "    </tr>\n",
              "    <tr>\n",
              "      <th>140</th>\n",
              "      <td>Trijardy XR</td>\n",
              "      <td>NaN</td>\n",
              "    </tr>\n",
              "  </tbody>\n",
              "</table>\n",
              "<p>141 rows × 2 columns</p>\n",
              "</div>"
            ],
            "text/plain": [
              "               DRUG NAME  score\n",
              "0               Acarbose    0.0\n",
              "1           ActoPlus Met    0.0\n",
              "2                  Actos    0.0\n",
              "3                Adlyxin    NaN\n",
              "4                Admelog    0.0\n",
              "..                   ...    ...\n",
              "136      Toujeo Solostar    0.0\n",
              "137  Toujeo max solostar    NaN\n",
              "138            Tradjenta    0.0\n",
              "139              Tresiba    0.0\n",
              "140          Trijardy XR    NaN\n",
              "\n",
              "[141 rows x 2 columns]"
            ]
          },
          "execution_count": 26,
          "metadata": {},
          "output_type": "execute_result"
        }
      ],
      "source": [
        "recommendations.head(-5)"
      ]
    },
    {
      "cell_type": "code",
      "execution_count": null,
      "id": "ae6fd82a",
      "metadata": {
        "id": "ae6fd82a"
      },
      "outputs": [],
      "source": [
        "#sort the recommendations by score in descending order\n",
        "recommendations=recommendations.sort_values(by='score',ascending=False)"
      ]
    },
    {
      "cell_type": "code",
      "execution_count": null,
      "id": "f2678130",
      "metadata": {
        "id": "f2678130",
        "outputId": "f2a4c8b2-9939-45ab-a871-2dfdcab9f7ec"
      },
      "outputs": [
        {
          "name": "stdout",
          "output_type": "stream",
          "text": [
            "Top 10 recommended medicines:\n",
            "Glipizide,score 1.2246376811594204\n",
            "Alogliptin,score 0.8800000000000001\n",
            "Linagliptin,score 0.8666666666666666\n",
            "Dapagliflozin,score 0.8256262042389207\n",
            "Glimepiride,score 0.51986301369863\n",
            "Pioglitazone,score 0.47816091954022966\n",
            "Canagliflozin,score 0.43992537313432856\n",
            "Saxagliptin,score 4.440892098500626e-16\n",
            "Novolog  Mix 70/30 FlexPen,score 0.0\n",
            "Novolog Mix 70/30,score 0.0\n",
            "Onglyza,score 0.0\n",
            "NovoLogflexpen,score 0.0\n",
            "Oseni,score 0.0\n",
            "Novolog,score 0.0\n",
            "Novolin R,score 0.0\n",
            "Novolin N,score 0.0\n",
            "Novolin 70/30,score 0.0\n",
            "Acarbose,score 0.0\n",
            "Nateglinide,score 0.0\n",
            "Nesina,score 0.0\n",
            "Mounjaro,score 0.0\n",
            "Miglitol,score 0.0\n",
            "Metformin,score 0.0\n",
            "Liraglutide,score 0.0\n",
            "Levemir,score 0.0\n",
            "Lantus solostar,score 0.0\n",
            "Lantus,score 0.0\n",
            "Kombiglyze XR,score 0.0\n",
            "Kazano,score 0.0\n",
            "Jentadueto XR,score 0.0\n",
            "Jentadueto,score 0.0\n",
            "Ozempic,score 0.0\n",
            "Riomet,score 0.0\n",
            "Pramlintide,score 0.0\n",
            "Prandin,score 0.0\n",
            "Xigduo XR,score 0.0\n",
            "Welchol,score 0.0\n",
            "Victoza,score 0.0\n",
            "Trulicity,score 0.0\n",
            "Tresiba,score 0.0\n",
            "Tradjenta,score 0.0\n",
            "Toujeo Solostar,score 0.0\n",
            "Tizepatide,score 0.0\n",
            "Tanzeum,score 0.0\n",
            "Synjardy XR,score 0.0\n",
            "Synjardy,score 0.0\n",
            "Symlin,score 0.0\n",
            "Steglujan,score 0.0\n",
            "Steglatro,score 0.0\n",
            "Starlix,score 0.0\n"
          ]
        }
      ],
      "source": [
        "#Print the top 10 recommendations\n",
        "print(\"Top 10 recommended medicines:\")\n",
        "for _, row in recommendations.head(50).iterrows():\n",
        "    print(f\"{row['DRUG NAME']},score {row['score']}\")"
      ]
    },
    {
      "cell_type": "code",
      "execution_count": null,
      "id": "50831724",
      "metadata": {
        "id": "50831724",
        "outputId": "65c67051-e2c0-469f-b975-a5c598fe2223"
      },
      "outputs": [
        {
          "name": "stdout",
          "output_type": "stream",
          "text": [
            "Top 10 recommended medicines:\n",
            "Glipizide\n",
            "Alogliptin\n",
            "Linagliptin\n",
            "Dapagliflozin\n",
            "Glimepiride\n",
            "Pioglitazone\n",
            "Canagliflozin\n",
            "Saxagliptin\n",
            "Novolog  Mix 70/30 FlexPen\n",
            "Novolog Mix 70/30\n"
          ]
        }
      ],
      "source": [
        "#Print the top 10 recommendations\n",
        "print(\"Top 10 recommended medicines:\")\n",
        "for _, row in recommendations.head(10).iterrows():\n",
        "    print(f\"{row['DRUG NAME']}\")"
      ]
    }
  ],
  "metadata": {
    "kernelspec": {
      "display_name": "Python 3 (ipykernel)",
      "language": "python",
      "name": "python3"
    },
    "language_info": {
      "codemirror_mode": {
        "name": "ipython",
        "version": 3
      },
      "file_extension": ".py",
      "mimetype": "text/x-python",
      "name": "python",
      "nbconvert_exporter": "python",
      "pygments_lexer": "ipython3",
      "version": "3.9.18"
    },
    "colab": {
      "provenance": []
    }
  },
  "nbformat": 4,
  "nbformat_minor": 5
}